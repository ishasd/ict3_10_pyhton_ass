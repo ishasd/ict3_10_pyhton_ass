{
 "cells": [
  {
   "cell_type": "code",
   "execution_count": 1,
   "metadata": {},
   "outputs": [
    {
     "name": "stdout",
     "output_type": "stream",
     "text": [
      "Result: 80\n"
     ]
    }
   ],
   "source": [
    "num1 = 20\n",
    "num2 = 60\n",
    "\n",
    "product = num1 * num2\n",
    "\n",
    "if product > 1000:\n",
    "    result = num1 + num2\n",
    "else:\n",
    "    result = product\n",
    "\n",
    "print(\"Result:\", result)\n"
   ]
  },
  {
   "cell_type": "code",
   "execution_count": 2,
   "metadata": {},
   "outputs": [
    {
     "name": "stdout",
     "output_type": "stream",
     "text": [
      "Current Number: 0, Previous Number: 0, Sum: 0\n",
      "Current Number: 1, Previous Number: 0, Sum: 1\n",
      "Current Number: 2, Previous Number: 1, Sum: 3\n",
      "Current Number: 3, Previous Number: 2, Sum: 5\n",
      "Current Number: 4, Previous Number: 3, Sum: 7\n",
      "Current Number: 5, Previous Number: 4, Sum: 9\n",
      "Current Number: 6, Previous Number: 5, Sum: 11\n",
      "Current Number: 7, Previous Number: 6, Sum: 13\n",
      "Current Number: 8, Previous Number: 7, Sum: 15\n",
      "Current Number: 9, Previous Number: 8, Sum: 17\n"
     ]
    }
   ],
   "source": [
    "previous_num = 0\n",
    "\n",
    "for current_num in range(10):\n",
    "    sum_val = current_num + previous_num\n",
    "    print(f\"Current Number: {current_num}, Previous Number: {previous_num}, Sum: {sum_val}\")\n",
    "    previous_num = current_num\n"
   ]
  },
  {
   "cell_type": "code",
   "execution_count": 3,
   "metadata": {},
   "outputs": [
    {
     "name": "stdout",
     "output_type": "stream",
     "text": [
      "P t o P o r m i g "
     ]
    }
   ],
   "source": [
    "input_str = \"PythonProgramming\"\n",
    "\n",
    "for i in range(0, len(input_str), 2):\n",
    "    print(input_str[i], end=' ')\n"
   ]
  },
  {
   "cell_type": "code",
   "execution_count": 4,
   "metadata": {},
   "outputs": [
    {
     "name": "stdout",
     "output_type": "stream",
     "text": [
      "True\n"
     ]
    }
   ],
   "source": [
    "num_list = [10, 20, 30, 10]\n",
    "\n",
    "if num_list[0] == num_list[-1]:\n",
    "    print(True)\n",
    "else:\n",
    "    print(False)\n"
   ]
  },
  {
   "cell_type": "code",
   "execution_count": 5,
   "metadata": {},
   "outputs": [
    {
     "name": "stdout",
     "output_type": "stream",
     "text": [
      "Combined List: [21, 35, 51, 73, 95]\n"
     ]
    }
   ],
   "source": [
    "list1 = [10, 21, 24, 35, 46]\n",
    "list2 = [51, 62, 73, 84, 95]\n",
    "\n",
    "result_list = list1[1::2] + list2[0::2]\n",
    "print(\"Combined List:\", result_list)\n"
   ]
  },
  {
   "cell_type": "code",
   "execution_count": 6,
   "metadata": {},
   "outputs": [
    {
     "name": "stdout",
     "output_type": "stream",
     "text": [
      "Modified List: [10, 20, 50, 30, 40, 60, 50]\n"
     ]
    }
   ],
   "source": [
    "my_list = [10, 20, 30, 40, 50, 60]\n",
    "\n",
    "element = my_list.pop(4)\n",
    "\n",
    "my_list.insert(2, element)\n",
    "\n",
    "my_list.append(element)\n",
    "\n",
    "print(\"Modified List:\", my_list)\n"
   ]
  },
  {
   "cell_type": "code",
   "execution_count": 7,
   "metadata": {},
   "outputs": [
    {
     "name": "stdout",
     "output_type": "stream",
     "text": [
      "[3, 2, 1] [6, 5, 4] [9, 8, 7]\n"
     ]
    }
   ],
   "source": [
    "data = [1, 2, 3, 4, 5, 6, 7, 8, 9]\n",
    "\n",
    "chunk_size = len(data) // 3\n",
    "\n",
    "chunk1 = data[0:chunk_size][::-1]\n",
    "chunk2 = data[chunk_size:2*chunk_size][::-1]\n",
    "chunk3 = data[2*chunk_size:][::-1]\n",
    "\n",
    "print(chunk1, chunk2, chunk3)\n"
   ]
  },
  {
   "cell_type": "code",
   "execution_count": 8,
   "metadata": {},
   "outputs": [
    {
     "name": "stdout",
     "output_type": "stream",
     "text": [
      "Element Counts: {1: 2, 2: 3, 3: 1, 4: 1}\n"
     ]
    }
   ],
   "source": [
    "elements = [1, 2, 2, 3, 1, 4, 2]\n",
    "\n",
    "count_dict = {}\n",
    "\n",
    "for item in elements:\n",
    "    if item in count_dict:\n",
    "        count_dict[item] += 1\n",
    "    else:\n",
    "        count_dict[item] = 1\n",
    "\n",
    "print(\"Element Counts:\", count_dict)\n"
   ]
  },
  {
   "cell_type": "code",
   "execution_count": 9,
   "metadata": {},
   "outputs": [
    {
     "name": "stdout",
     "output_type": "stream",
     "text": [
      "Updated Set: {'black', 'blue', 'orange', 'yellow'}\n"
     ]
    }
   ],
   "source": [
    "my_set = {'yellow', 'orange'}\n",
    "my_list = ['blue', 'black']\n",
    "\n",
    "my_set.update(my_list)\n",
    "print(\"Updated Set:\", my_set)\n"
   ]
  },
  {
   "cell_type": "code",
   "execution_count": 10,
   "metadata": {},
   "outputs": [
    {
     "name": "stdout",
     "output_type": "stream",
     "text": [
      "1 \n",
      "1 2 \n",
      "1 2 3 \n",
      "1 2 3 4 \n",
      "1 2 3 4 5 \n"
     ]
    }
   ],
   "source": [
    "for i in range(1, 6):\n",
    "    for j in range(1, i+1):\n",
    "        print(j, end=' ')\n",
    "    print()\n"
   ]
  },
  {
   "cell_type": "code",
   "execution_count": 11,
   "metadata": {},
   "outputs": [
    {
     "name": "stdout",
     "output_type": "stream",
     "text": [
      "Total Sum: 55\n"
     ]
    }
   ],
   "source": [
    "n = 10\n",
    "\n",
    "total_sum = 0\n",
    "\n",
    "for i in range(1, n+1):\n",
    "    total_sum += i\n",
    "\n",
    "print(\"Total Sum:\", total_sum)\n"
   ]
  },
  {
   "cell_type": "code",
   "execution_count": 12,
   "metadata": {},
   "outputs": [
    {
     "name": "stdout",
     "output_type": "stream",
     "text": [
      "10\n",
      "25\n",
      "150\n"
     ]
    }
   ],
   "source": [
    "numbers = [10, 25, 150, 175, 200]\n",
    "\n",
    "for num in numbers:\n",
    "    if num > 150:\n",
    "        break\n",
    "    if num % 5 == 0:\n",
    "        print(num)\n"
   ]
  },
  {
   "cell_type": "code",
   "execution_count": 13,
   "metadata": {},
   "outputs": [
    {
     "name": "stdout",
     "output_type": "stream",
     "text": [
      "Reversed List: [40, 30, 20, 10]\n"
     ]
    }
   ],
   "source": [
    "list1 = [10, 20, 30, 40]\n",
    "\n",
    "reversed_list = []\n",
    "\n",
    "start = 10\n",
    "end = 30\n",
    "\n",
    "for num in range(start, end + 1):\n",
    "    is_prime = True\n",
    "    if num <= 1:\n",
    "        is_prime = False\n",
    "    else:\n",
    "        for i in range(2, int(num**0.5)+1):\n",
    "            if num % i == 0:\n",
    "                is_prime = False\n",
    "                break\n",
    "    if is_prime:\n",
    "        print(num, end=' ')\n",
    "\n",
    "for i in range(len(list1)-1, -1, -1):\n",
    "    reversed_list.append(list1[i])\n",
    "\n",
    "print(\"Reversed List:\", reversed_list)\n"
   ]
  },
  {
   "cell_type": "code",
   "execution_count": 14,
   "metadata": {},
   "outputs": [
    {
     "name": "stdout",
     "output_type": "stream",
     "text": [
      "11 13 17 19 23 29 "
     ]
    }
   ],
   "source": [
    "start = 10\n",
    "end = 30\n",
    "\n",
    "for num in range(start, end + 1):\n",
    "    is_prime = True\n",
    "    if num <= 1:\n",
    "        is_prime = False\n",
    "    else:\n",
    "        for i in range(2, int(num**0.5)+1):\n",
    "            if num % i == 0:\n",
    "                is_prime = False\n",
    "                break\n",
    "    if is_prime:\n",
    "        print(num, end=' ')\n"
   ]
  },
  {
   "cell_type": "code",
   "execution_count": 1,
   "metadata": {},
   "outputs": [
    {
     "name": "stdout",
     "output_type": "stream",
     "text": [
      "Car bought successfully!\n",
      "Car bought successfully!\n",
      "    Brand   Model    Price    Fuel  Color\n",
      "0  Toyota  Innova  1800000  Diesel  White\n",
      "1   Honda    City  1200000  Petrol    Red\n",
      "{'Brand': 'Honda', 'Model': 'City', 'Price': 1200000, 'Fuel': 'Petrol', 'Color': 'Red'}\n",
      "Selling car: City\n",
      "    Brand   Model    Price    Fuel  Color\n",
      "0  Toyota  Innova  1800000  Diesel  White\n"
     ]
    }
   ],
   "source": [
    "import pandas as pd\n",
    "\n",
    "class Car:\n",
    "    def __init__(self, brand, model, price, fuel, color):\n",
    "        self.brand = brand\n",
    "        self.model = model\n",
    "        self.price = price\n",
    "        self.fuel = fuel\n",
    "        self.color = color\n",
    "\n",
    "    def details(self):\n",
    "        return {\n",
    "            'Brand': self.brand,\n",
    "            'Model': self.model,\n",
    "            'Price': self.price,\n",
    "            'Fuel': self.fuel,\n",
    "            'Color': self.color\n",
    "        }\n",
    "\n",
    "class Showroom:\n",
    "    def __init__(self):\n",
    "        self.cars = []\n",
    "\n",
    "    def add_car(self, car):\n",
    "        self.cars.append(car)\n",
    "\n",
    "    def show_all_cars(self):\n",
    "        df = pd.DataFrame([car.details() for car in self.cars])\n",
    "        print(df)\n",
    "\n",
    "    def show_car_details(self, model):\n",
    "        for car in self.cars:\n",
    "            if car.model == model:\n",
    "                print(car.details())\n",
    "                return\n",
    "        print(\"Car not found!\")\n",
    "\n",
    "    def sell_car(self, model):\n",
    "        for i, car in enumerate(self.cars):\n",
    "            if car.model == model:\n",
    "                print(f\"Selling car: {model}\")\n",
    "                del self.cars[i]\n",
    "                return\n",
    "        print(\"Car not available!\")\n",
    "\n",
    "    def buy_car(self, brand, model, price, fuel, color):\n",
    "        try:\n",
    "            new_car = Car(brand, model, price, fuel, color)\n",
    "            self.add_car(new_car)\n",
    "            print(\"Car bought successfully!\")\n",
    "        except Exception as e:\n",
    "            print(\"Error occurred:\", e)\n",
    "\n",
    "            \n",
    "my_showroom = Showroom()\n",
    "my_showroom.buy_car(\"Toyota\", \"Innova\", 1800000, \"Diesel\", \"White\")\n",
    "my_showroom.buy_car(\"Honda\", \"City\", 1200000, \"Petrol\", \"Red\")\n",
    "\n",
    "my_showroom.show_all_cars()\n",
    "my_showroom.show_car_details(\"City\")\n",
    "my_showroom.sell_car(\"City\")\n",
    "my_showroom.show_all_cars()\n"
   ]
  },
  {
   "cell_type": "code",
   "execution_count": null,
   "metadata": {},
   "outputs": [],
   "source": []
  }
 ],
 "metadata": {
  "kernelspec": {
   "display_name": "Python 3",
   "language": "python",
   "name": "python3"
  },
  "language_info": {
   "codemirror_mode": {
    "name": "ipython",
    "version": 3
   },
   "file_extension": ".py",
   "mimetype": "text/x-python",
   "name": "python",
   "nbconvert_exporter": "python",
   "pygments_lexer": "ipython3",
   "version": "3.7.6"
  }
 },
 "nbformat": 4,
 "nbformat_minor": 4
}
